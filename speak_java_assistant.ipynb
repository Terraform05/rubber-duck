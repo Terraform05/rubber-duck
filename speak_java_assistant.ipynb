{
 "cells": [
  {
   "cell_type": "code",
   "execution_count": 5,
   "metadata": {},
   "outputs": [],
   "source": [
    "import speech_recognition as sr\n",
    "from tts import say"
   ]
  },
  {
   "cell_type": "code",
   "execution_count": 4,
   "metadata": {},
   "outputs": [
    {
     "name": "stdout",
     "output_type": "stream",
     "text": [
      "5000\n",
      "question\n"
     ]
    }
   ],
   "source": [
    "question = None\n",
    "\n",
    "while question is None:\n",
    "    print(\"Listening for your question...\")\n",
    "    try:\n",
    "        with sr.Microphone() as mic:\n",
    "            r = sr.Recognizer()\n",
    "            audio = r.listen(mic)\n",
    "            question = r.recognize_google(audio)\n",
    "            \n",
    "    except sr.RequestError as e:\n",
    "        print(\"Could not request results; {0}\".format(e))\n",
    "\n",
    "    except sr.UnknownValueError:\n",
    "        print(\"Unknown error occurred\")\n",
    "    \n",
    "    print(f'You asked: {question}')\n",
    "    print(f'Would you like to proceed?')\n",
    "    say(f'You asked: {question}')\n",
    "    say(f'Would you like to proceed?')"
   ]
  }
 ],
 "metadata": {
  "kernelspec": {
   "display_name": "base",
   "language": "python",
   "name": "python3"
  },
  "language_info": {
   "codemirror_mode": {
    "name": "ipython",
    "version": 3
   },
   "file_extension": ".py",
   "mimetype": "text/x-python",
   "name": "python",
   "nbconvert_exporter": "python",
   "pygments_lexer": "ipython3",
   "version": "3.10.9"
  }
 },
 "nbformat": 4,
 "nbformat_minor": 2
}
