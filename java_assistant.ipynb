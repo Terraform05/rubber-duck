{
 "cells": [
  {
   "cell_type": "code",
   "execution_count": 1,
   "metadata": {},
   "outputs": [],
   "source": [
    "from openai import OpenAI\n",
    "from sensitive import OPENAI_API_KEY, OPENAI_ORGANIZATION"
   ]
  },
  {
   "cell_type": "code",
   "execution_count": 2,
   "metadata": {},
   "outputs": [],
   "source": [
    "client = OpenAI(\n",
    "    organization=OPENAI_ORGANIZATION,\n",
    "    api_key=OPENAI_API_KEY\n",
    "    )"
   ]
  },
  {
   "cell_type": "code",
   "execution_count": 3,
   "metadata": {},
   "outputs": [],
   "source": [
    "java_assistant = client.beta.assistants.create(\n",
    "    name=\"Java Tutor\",\n",
    "    instructions=\"You are a personal computer science tutor for the language Java. When asked a question, explain the Java coding logic, structure, and syntax neded to solve the problem. If you do not know the answer, ask questions to help you fully understand the problem.\",\n",
    "    model=\"gpt-4-1106-preview\",\n",
    "    tools=[{\"type\": \"code_interpreter\"}]\n",
    ")"
   ]
  },
  {
   "cell_type": "code",
   "execution_count": 4,
   "metadata": {},
   "outputs": [
    {
     "name": "stdout",
     "output_type": "stream",
     "text": [
      "{\n",
      "  \"id\": \"asst_1U1FmBovw3yUJB7VHtzDwJgY\",\n",
      "  \"created_at\": 1702789268,\n",
      "  \"description\": null,\n",
      "  \"file_ids\": [],\n",
      "  \"instructions\": \"You are a personal computer science tutor for the language Java. When asked a question, explain the Java coding logic, structure, and syntax neded to solve the problem. If you do not know the answer, ask questions to help you fully understand the problem.\",\n",
      "  \"metadata\": {},\n",
      "  \"model\": \"gpt-4-1106-preview\",\n",
      "  \"name\": \"Java Tutor\",\n",
      "  \"object\": \"assistant\",\n",
      "  \"tools\": [\n",
      "    {\n",
      "      \"type\": \"code_interpreter\"\n",
      "    }\n",
      "  ]\n",
      "}\n"
     ]
    }
   ],
   "source": [
    "print(java_assistant.model_dump_json(indent=2))"
   ]
  },
  {
   "cell_type": "code",
   "execution_count": 5,
   "metadata": {},
   "outputs": [],
   "source": [
    "thread = client.beta.threads.create()"
   ]
  },
  {
   "cell_type": "code",
   "execution_count": 6,
   "metadata": {},
   "outputs": [
    {
     "name": "stdout",
     "output_type": "stream",
     "text": [
      "{\n",
      "  \"id\": \"thread_5WIufLzVEpP4VpqvSFAIYnro\",\n",
      "  \"created_at\": 1702789272,\n",
      "  \"metadata\": {},\n",
      "  \"object\": \"thread\"\n",
      "}\n"
     ]
    }
   ],
   "source": [
    "print(thread.model_dump_json(indent=2))"
   ]
  },
  {
   "cell_type": "code",
   "execution_count": 7,
   "metadata": {},
   "outputs": [],
   "source": [
    "message = client.beta.threads.messages.create(\n",
    "    thread_id=thread.id,\n",
    "    role = \"user\",\n",
    "    content=\"What is the difference between a for loop and a while loop?\"\n",
    ")"
   ]
  },
  {
   "cell_type": "code",
   "execution_count": 8,
   "metadata": {},
   "outputs": [
    {
     "name": "stdout",
     "output_type": "stream",
     "text": [
      "{\n",
      "  \"id\": \"msg_PCUEmhnAG2GjdUKtUsM1Y9uA\",\n",
      "  \"assistant_id\": null,\n",
      "  \"content\": [\n",
      "    {\n",
      "      \"text\": {\n",
      "        \"annotations\": [],\n",
      "        \"value\": \"What is the difference between a for loop and a while loop?\"\n",
      "      },\n",
      "      \"type\": \"text\"\n",
      "    }\n",
      "  ],\n",
      "  \"created_at\": 1702789277,\n",
      "  \"file_ids\": [],\n",
      "  \"metadata\": {},\n",
      "  \"object\": \"thread.message\",\n",
      "  \"role\": \"user\",\n",
      "  \"run_id\": null,\n",
      "  \"thread_id\": \"thread_5WIufLzVEpP4VpqvSFAIYnro\"\n",
      "}\n"
     ]
    }
   ],
   "source": [
    "print(message.model_dump_json(indent=2))"
   ]
  },
  {
   "cell_type": "code",
   "execution_count": 9,
   "metadata": {},
   "outputs": [],
   "source": [
    "run = client.beta.threads.runs.create(\n",
    "    thread_id = thread.id,\n",
    "    assistant_id = java_assistant.id,\n",
    "    #instructions = \"Please address the user as Dr. Lena and answer their question.\",\n",
    ")"
   ]
  },
  {
   "cell_type": "code",
   "execution_count": 12,
   "metadata": {},
   "outputs": [],
   "source": [
    "message = message = client.beta.threads.messages.create(\n",
    "    thread_id=thread.id,\n",
    "    role=\"user\",\n",
    "    content=\"What is the difference between an integer and a string?\"\n",
    ")"
   ]
  },
  {
   "cell_type": "code",
   "execution_count": 13,
   "metadata": {},
   "outputs": [],
   "source": [
    "run = client.beta.threads.runs.create(\n",
    "    thread_id=thread.id,\n",
    "    assistant_id=java_assistant.id,\n",
    "    # instructions = \"Please address the user as Dr. Lena and answer their question.\",\n",
    ")"
   ]
  },
  {
   "cell_type": "code",
   "execution_count": 14,
   "metadata": {},
   "outputs": [
    {
     "name": "stdout",
     "output_type": "stream",
     "text": [
      "{\n",
      "  \"id\": \"run_F4w3yG5fc7mcjdVE1y5dHjfG\",\n",
      "  \"assistant_id\": \"asst_1U1FmBovw3yUJB7VHtzDwJgY\",\n",
      "  \"cancelled_at\": null,\n",
      "  \"completed_at\": null,\n",
      "  \"created_at\": 1702789319,\n",
      "  \"expires_at\": 1702789919,\n",
      "  \"failed_at\": null,\n",
      "  \"file_ids\": [],\n",
      "  \"instructions\": \"You are a personal computer science tutor for the language Java. When asked a question, explain the Java coding logic, structure, and syntax neded to solve the problem. If you do not know the answer, ask questions to help you fully understand the problem.\",\n",
      "  \"last_error\": null,\n",
      "  \"metadata\": {},\n",
      "  \"model\": \"gpt-4-1106-preview\",\n",
      "  \"object\": \"thread.run\",\n",
      "  \"required_action\": null,\n",
      "  \"started_at\": null,\n",
      "  \"status\": \"queued\",\n",
      "  \"thread_id\": \"thread_5WIufLzVEpP4VpqvSFAIYnro\",\n",
      "  \"tools\": [\n",
      "    {\n",
      "      \"type\": \"code_interpreter\"\n",
      "    }\n",
      "  ]\n",
      "}\n"
     ]
    }
   ],
   "source": [
    "print(run.model_dump_json(indent=2))"
   ]
  },
  {
   "cell_type": "code",
   "execution_count": 15,
   "metadata": {},
   "outputs": [],
   "source": [
    "retrieve_run = client.beta.threads.runs.retrieve(\n",
    "    thread_id = thread.id,\n",
    "    run_id = run.id\n",
    ")"
   ]
  },
  {
   "cell_type": "code",
   "execution_count": 16,
   "metadata": {},
   "outputs": [
    {
     "name": "stdout",
     "output_type": "stream",
     "text": [
      "{\n",
      "  \"id\": \"run_F4w3yG5fc7mcjdVE1y5dHjfG\",\n",
      "  \"assistant_id\": \"asst_1U1FmBovw3yUJB7VHtzDwJgY\",\n",
      "  \"cancelled_at\": null,\n",
      "  \"completed_at\": null,\n",
      "  \"created_at\": 1702789319,\n",
      "  \"expires_at\": 1702789919,\n",
      "  \"failed_at\": null,\n",
      "  \"file_ids\": [],\n",
      "  \"instructions\": \"You are a personal computer science tutor for the language Java. When asked a question, explain the Java coding logic, structure, and syntax neded to solve the problem. If you do not know the answer, ask questions to help you fully understand the problem.\",\n",
      "  \"last_error\": null,\n",
      "  \"metadata\": {},\n",
      "  \"model\": \"gpt-4-1106-preview\",\n",
      "  \"object\": \"thread.run\",\n",
      "  \"required_action\": null,\n",
      "  \"started_at\": 1702789319,\n",
      "  \"status\": \"in_progress\",\n",
      "  \"thread_id\": \"thread_5WIufLzVEpP4VpqvSFAIYnro\",\n",
      "  \"tools\": [\n",
      "    {\n",
      "      \"type\": \"code_interpreter\"\n",
      "    }\n",
      "  ]\n",
      "}\n"
     ]
    }
   ],
   "source": [
    "print(retrieve_run.model_dump_json(indent=2))"
   ]
  },
  {
   "cell_type": "code",
   "execution_count": 17,
   "metadata": {},
   "outputs": [],
   "source": [
    "thread_messages = client.beta.threads.messages.list(\n",
    "    thread_id = thread.id\n",
    ")"
   ]
  },
  {
   "cell_type": "code",
   "execution_count": 18,
   "metadata": {},
   "outputs": [
    {
     "name": "stdout",
     "output_type": "stream",
     "text": [
      "{\n",
      "  \"data\": [\n",
      "    {\n",
      "      \"id\": \"msg_SdxJ8qGvEKV9W8469fyv3CQY\",\n",
      "      \"assistant_id\": \"asst_1U1FmBovw3yUJB7VHtzDwJgY\",\n",
      "      \"content\": [\n",
      "        {\n",
      "          \"text\": {\n",
      "            \"annotations\": [],\n",
      "            \"value\": \"\"\n",
      "          },\n",
      "          \"type\": \"text\"\n",
      "        }\n",
      "      ],\n",
      "      \"created_at\": 1702789320,\n",
      "      \"file_ids\": [],\n",
      "      \"metadata\": {},\n",
      "      \"object\": \"thread.message\",\n",
      "      \"role\": \"assistant\",\n",
      "      \"run_id\": \"run_F4w3yG5fc7mcjdVE1y5dHjfG\",\n",
      "      \"thread_id\": \"thread_5WIufLzVEpP4VpqvSFAIYnro\"\n",
      "    },\n",
      "    {\n",
      "      \"id\": \"msg_XennQ7ayNY9kWiRoBqIHnHfH\",\n",
      "      \"assistant_id\": null,\n",
      "      \"content\": [\n",
      "        {\n",
      "          \"text\": {\n",
      "            \"annotations\": [],\n",
      "            \"value\": \"What is the difference between an integer and a string?\"\n",
      "          },\n",
      "          \"type\": \"text\"\n",
      "        }\n",
      "      ],\n",
      "      \"created_at\": 1702789314,\n",
      "      \"file_ids\": [],\n",
      "      \"metadata\": {},\n",
      "      \"object\": \"thread.message\",\n",
      "      \"role\": \"user\",\n",
      "      \"run_id\": null,\n",
      "      \"thread_id\": \"thread_5WIufLzVEpP4VpqvSFAIYnro\"\n",
      "    },\n",
      "    {\n",
      "      \"id\": \"msg_53zCPkb7iWdFj6hbWoYl3pGv\",\n",
      "      \"assistant_id\": \"asst_1U1FmBovw3yUJB7VHtzDwJgY\",\n",
      "      \"content\": [\n",
      "        {\n",
      "          \"text\": {\n",
      "            \"annotations\": [],\n",
      "            \"value\": \"In Java (as with many programming languages), both `for` loops and `while` loops are control flow constructs that allow you to repeat a block of code multiple times. However, they differ in their syntax and typical use cases:\\n\\n**For Loop:**\\n\\nA `for` loop is typically used when the number of iterations is known before entering the loop. It has three parts: initialization, termination condition, and an increment (or decrement) expression. The syntax for a `for` loop looks like this:\\n\\n```java\\nfor (initialization; termination; increment) {\\n    // Block of code to be executed\\n}\\n```\\n\\n- **Initialization:** Executed once at the beginning of the loop. It often initializes a loop control variable.\\n- **Termination:** The condition is checked before each iteration. If it evaluates to `false`, the loop terminates.\\n- **Increment:** Executed after each iteration, typically used to update the loop control variable.\\n\\nExample of a `for` loop:\\n\\n```java\\nfor (int i = 0; i < 10; i++) {\\n    System.out.println(\\\"The value of i is: \\\" + i);\\n}\\n```\\n\\nIn this example, the loop will iterate 10 times, printing the value of `i` from 0 to 9.\\n\\n**While Loop:**\\n\\nA `while` loop is generally used when you do not know in advance how many times you will need to execute the loop. The loop will continue to execute as long as its condition remains `true`. The syntax for a `while` loop looks like this:\\n\\n```java\\nwhile (condition) {\\n    // Block of code to be executed\\n}\\n```\\n\\n- **Condition:** Evaluated before each iteration. If it evaluates to `false`, the loop terminates.\\n\\nExample of a `while` loop:\\n\\n```java\\nint i = 0;\\nwhile (i < 10) {\\n    System.out.println(\\\"The value of i is: \\\" + i);\\n    i++;\\n}\\n```\\n\\nIn this `while` loop, the block of code will also print the value of `i` from 0 to 9, but notice that we have to manually initialize the loop control variable before the loop and increment it inside the loop.\\n\\nIn summary, both loops can often be used interchangeably, but a `for` loop provides a more compact syntax when the number of iterations is known, and a `while` loop provides more flexibility when the number of iterations is not known beforehand or when the loop control is more complicated. There's also a variant of the `while` loop called the `do-while` loop where the condition is evaluated at the end of each iteration, ensuring that the loop body is executed at least once.\"\n",
      "          },\n",
      "          \"type\": \"text\"\n",
      "        }\n",
      "      ],\n",
      "      \"created_at\": 1702789282,\n",
      "      \"file_ids\": [],\n",
      "      \"metadata\": {},\n",
      "      \"object\": \"thread.message\",\n",
      "      \"role\": \"assistant\",\n",
      "      \"run_id\": \"run_j72lqZ0CUlPIcQIaJHxsg53w\",\n",
      "      \"thread_id\": \"thread_5WIufLzVEpP4VpqvSFAIYnro\"\n",
      "    },\n",
      "    {\n",
      "      \"id\": \"msg_PCUEmhnAG2GjdUKtUsM1Y9uA\",\n",
      "      \"assistant_id\": null,\n",
      "      \"content\": [\n",
      "        {\n",
      "          \"text\": {\n",
      "            \"annotations\": [],\n",
      "            \"value\": \"What is the difference between a for loop and a while loop?\"\n",
      "          },\n",
      "          \"type\": \"text\"\n",
      "        }\n",
      "      ],\n",
      "      \"created_at\": 1702789277,\n",
      "      \"file_ids\": [],\n",
      "      \"metadata\": {},\n",
      "      \"object\": \"thread.message\",\n",
      "      \"role\": \"user\",\n",
      "      \"run_id\": null,\n",
      "      \"thread_id\": \"thread_5WIufLzVEpP4VpqvSFAIYnro\"\n",
      "    }\n",
      "  ],\n",
      "  \"object\": \"list\",\n",
      "  \"first_id\": \"msg_SdxJ8qGvEKV9W8469fyv3CQY\",\n",
      "  \"last_id\": \"msg_PCUEmhnAG2GjdUKtUsM1Y9uA\",\n",
      "  \"has_more\": false\n",
      "}\n"
     ]
    }
   ],
   "source": [
    "print(thread_messages.model_dump_json(indent=2))"
   ]
  },
  {
   "cell_type": "code",
   "execution_count": 19,
   "metadata": {},
   "outputs": [
    {
     "name": "stdout",
     "output_type": "stream",
     "text": [
      "User: What is the difference between a for loop and a while loop?\n",
      "Assistant: In Java (as with many programming languages), both `for` loops and `while` loops are control flow constructs that allow you to repeat a block of code multiple times. However, they differ in their syntax and typical use cases:\n",
      "\n",
      "**For Loop:**\n",
      "\n",
      "A `for` loop is typically used when the number of iterations is known before entering the loop. It has three parts: initialization, termination condition, and an increment (or decrement) expression. The syntax for a `for` loop looks like this:\n",
      "\n",
      "```java\n",
      "for (initialization; termination; increment) {\n",
      "    // Block of code to be executed\n",
      "}\n",
      "```\n",
      "\n",
      "- **Initialization:** Executed once at the beginning of the loop. It often initializes a loop control variable.\n",
      "- **Termination:** The condition is checked before each iteration. If it evaluates to `false`, the loop terminates.\n",
      "- **Increment:** Executed after each iteration, typically used to update the loop control variable.\n",
      "\n",
      "Example of a `for` loop:\n",
      "\n",
      "```java\n",
      "for (int i = 0; i < 10; i++) {\n",
      "    System.out.println(\"The value of i is: \" + i);\n",
      "}\n",
      "```\n",
      "\n",
      "In this example, the loop will iterate 10 times, printing the value of `i` from 0 to 9.\n",
      "\n",
      "**While Loop:**\n",
      "\n",
      "A `while` loop is generally used when you do not know in advance how many times you will need to execute the loop. The loop will continue to execute as long as its condition remains `true`. The syntax for a `while` loop looks like this:\n",
      "\n",
      "```java\n",
      "while (condition) {\n",
      "    // Block of code to be executed\n",
      "}\n",
      "```\n",
      "\n",
      "- **Condition:** Evaluated before each iteration. If it evaluates to `false`, the loop terminates.\n",
      "\n",
      "Example of a `while` loop:\n",
      "\n",
      "```java\n",
      "int i = 0;\n",
      "while (i < 10) {\n",
      "    System.out.println(\"The value of i is: \" + i);\n",
      "    i++;\n",
      "}\n",
      "```\n",
      "\n",
      "In this `while` loop, the block of code will also print the value of `i` from 0 to 9, but notice that we have to manually initialize the loop control variable before the loop and increment it inside the loop.\n",
      "\n",
      "In summary, both loops can often be used interchangeably, but a `for` loop provides a more compact syntax when the number of iterations is known, and a `while` loop provides more flexibility when the number of iterations is not known beforehand or when the loop control is more complicated. There's also a variant of the `while` loop called the `do-while` loop where the condition is evaluated at the end of each iteration, ensuring that the loop body is executed at least once.\n",
      "User: What is the difference between an integer and a string?\n",
      "Assistant: \n"
     ]
    }
   ],
   "source": [
    "for message in reversed(thread_messages.data):\n",
    "    content = message.content[0].text.value\n",
    "    if message.role == 'assistant':\n",
    "        print(f\"Assistant: {content}\")\n",
    "    if message.role == 'user':\n",
    "        print(f\"User: {content}\")"
   ]
  },
  {
   "cell_type": "markdown",
   "metadata": {},
   "source": [
    "User: What is the difference between a for loop and a while loop?\n",
    "\n",
    "\n",
    "Assistant: In Java, both `for` loops and `while` loops are used to execute a block of code repeatedly for a number of iterations, but they have different syntax and are used in slightly different situations based on the clarity and convenience they offer for a particular scenario. Here's a basic definition and distinction between the two:\n",
    "\n",
    "**For Loop:**\n",
    "A `for` loop is used when the number of iterations is known beforehand. The structure of a `for` loop includes the initialization of the loop control variable, the loop condition (which is checked before each iteration), and the increment or decrement of the loop control variable. It is often used when you want to iterate over an array or a range of values.\n",
    "\n",
    "Here's the syntax of a for loop in Java:\n",
    "```java\n",
    "for (initialization; condition; increment/decrement) {\n",
    "    // block of code to be executed\n",
    "}\n",
    "```\n",
    "\n",
    "For example, if you want to iterate over a range of integers from 0 to 9, you might write:\n",
    "```java\n",
    "for (int i = 0; i < 10; i++) {\n",
    "    System.out.println(i);\n",
    "}\n",
    "```\n",
    "\n",
    "**While Loop:**\n",
    "A `while` loop is used when the number of iterations is not known and depends on a condition. The loop executes as long as the condition is `true`. The loop condition is checked before each iteration, but unlike a `for` loop, the initialization and increment/decrement happen inside the loop body or before the loop starts.\n",
    "\n",
    "Here's the syntax of a while loop in Java:\n",
    "```java\n",
    "...\n",
    "**Key Differences:**\n",
    "1. Initialization, condition check, and increment/decrement are included in the same line in a `for` loop, whereas in a `while` loop, these parts can be scattered.\n",
    "2. Generally, `for` loops are used when the number of iterations is known before entering the loop, and `while` loops are used when the iterations depend on a condition that is evaluated during the execution.\n",
    "3. A `for` loop provides a concise way of writing the loop structure, while a `while` loop can be more expressive and flexible, especially in scenarios where the control variable might be altered by different parts of the code within the loop body."
   ]
  },
  {
   "cell_type": "code",
   "execution_count": null,
   "metadata": {},
   "outputs": [],
   "source": [
    "client.beta.assistants.delete(java_assistant.id)"
   ]
  },
  {
   "cell_type": "code",
   "execution_count": null,
   "metadata": {},
   "outputs": [],
   "source": [
    "print(client.beta.assistants.list())"
   ]
  }
 ],
 "metadata": {
  "kernelspec": {
   "display_name": "Python 3",
   "language": "python",
   "name": "python3"
  },
  "language_info": {
   "codemirror_mode": {
    "name": "ipython",
    "version": 3
   },
   "file_extension": ".py",
   "mimetype": "text/x-python",
   "name": "python",
   "nbconvert_exporter": "python",
   "pygments_lexer": "ipython3",
   "version": "3.10.9"
  }
 },
 "nbformat": 4,
 "nbformat_minor": 2
}
