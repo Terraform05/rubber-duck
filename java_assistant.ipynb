{
 "cells": [
  {
   "cell_type": "code",
   "execution_count": 1,
   "metadata": {},
   "outputs": [],
   "source": [
    "from openai import OpenAI\n",
    "from sensitive import OPENAI_API_KEY, OPENAI_ORGANIZATION"
   ]
  },
  {
   "cell_type": "code",
   "execution_count": 2,
   "metadata": {},
   "outputs": [],
   "source": [
    "client = OpenAI(\n",
    "    organization=OPENAI_ORGANIZATION,\n",
    "    api_key=OPENAI_API_KEY\n",
    "    )"
   ]
  },
  {
   "cell_type": "code",
   "execution_count": 3,
   "metadata": {},
   "outputs": [],
   "source": [
    "java_assistant = client.beta.assistants.create(\n",
    "    name=\"Java Tutor\",\n",
    "    instructions=\"You are a personal computer science tutor for the language Java. When asked a question, explain the Java coding logic, structure, and syntax neded to solve the problem. If you do not know the answer, ask questions to help you fully understand the problem.\",\n",
    "    model=\"gpt-4-1106-preview\",\n",
    "    tools=[{\"type\": \"code_interpreter\"}]\n",
    ")"
   ]
  },
  {
   "cell_type": "code",
   "execution_count": 4,
   "metadata": {},
   "outputs": [
    {
     "name": "stdout",
     "output_type": "stream",
     "text": [
      "{\n",
      "  \"id\": \"asst_8FU7ZPzYkOTP1sxCw7eyF30X\",\n",
      "  \"created_at\": 1702790060,\n",
      "  \"description\": null,\n",
      "  \"file_ids\": [],\n",
      "  \"instructions\": \"You are a personal computer science tutor for the language Java. When asked a question, explain the Java coding logic, structure, and syntax neded to solve the problem. If you do not know the answer, ask questions to help you fully understand the problem.\",\n",
      "  \"metadata\": {},\n",
      "  \"model\": \"gpt-4-1106-preview\",\n",
      "  \"name\": \"Java Tutor\",\n",
      "  \"object\": \"assistant\",\n",
      "  \"tools\": [\n",
      "    {\n",
      "      \"type\": \"code_interpreter\"\n",
      "    }\n",
      "  ]\n",
      "}\n"
     ]
    }
   ],
   "source": [
    "print(java_assistant.model_dump_json(indent=2))"
   ]
  },
  {
   "cell_type": "code",
   "execution_count": 5,
   "metadata": {},
   "outputs": [],
   "source": [
    "thread = client.beta.threads.create()"
   ]
  },
  {
   "cell_type": "code",
   "execution_count": 6,
   "metadata": {},
   "outputs": [
    {
     "name": "stdout",
     "output_type": "stream",
     "text": [
      "{\n",
      "  \"id\": \"thread_9GyVPsChKJzNuhP3CcKnViol\",\n",
      "  \"created_at\": 1702790065,\n",
      "  \"metadata\": {},\n",
      "  \"object\": \"thread\"\n",
      "}\n"
     ]
    }
   ],
   "source": [
    "print(thread.model_dump_json(indent=2))"
   ]
  },
  {
   "cell_type": "code",
   "execution_count": 7,
   "metadata": {},
   "outputs": [],
   "source": [
    "message = client.beta.threads.messages.create(\n",
    "    thread_id=thread.id,\n",
    "    role = \"user\",\n",
    "    content=\"What is the difference between a for loop and a while loop?\"\n",
    ")"
   ]
  },
  {
   "cell_type": "code",
   "execution_count": 8,
   "metadata": {},
   "outputs": [
    {
     "name": "stdout",
     "output_type": "stream",
     "text": [
      "{\n",
      "  \"id\": \"msg_RjKWTYiDwOGVEWp7xXofqD1Q\",\n",
      "  \"assistant_id\": null,\n",
      "  \"content\": [\n",
      "    {\n",
      "      \"text\": {\n",
      "        \"annotations\": [],\n",
      "        \"value\": \"What is the difference between a for loop and a while loop?\"\n",
      "      },\n",
      "      \"type\": \"text\"\n",
      "    }\n",
      "  ],\n",
      "  \"created_at\": 1702790073,\n",
      "  \"file_ids\": [],\n",
      "  \"metadata\": {},\n",
      "  \"object\": \"thread.message\",\n",
      "  \"role\": \"user\",\n",
      "  \"run_id\": null,\n",
      "  \"thread_id\": \"thread_9GyVPsChKJzNuhP3CcKnViol\"\n",
      "}\n"
     ]
    }
   ],
   "source": [
    "print(message.model_dump_json(indent=2))"
   ]
  },
  {
   "cell_type": "code",
   "execution_count": 9,
   "metadata": {},
   "outputs": [],
   "source": [
    "run = client.beta.threads.runs.create(\n",
    "    thread_id = thread.id,\n",
    "    assistant_id = java_assistant.id,\n",
    "    #instructions = \"Please address the user as Dr. Lena and answer their question.\",\n",
    ")"
   ]
  },
  {
   "cell_type": "code",
   "execution_count": 12,
   "metadata": {},
   "outputs": [],
   "source": [
    "message = message = client.beta.threads.messages.create(\n",
    "    thread_id=thread.id,\n",
    "    role=\"user\",\n",
    "    content=\"What is the difference between an integer and a string?\"\n",
    ")"
   ]
  },
  {
   "cell_type": "code",
   "execution_count": 13,
   "metadata": {},
   "outputs": [],
   "source": [
    "run = client.beta.threads.runs.create(\n",
    "    thread_id=thread.id,\n",
    "    assistant_id=java_assistant.id,\n",
    "    # instructions = \"Please address the user as Dr. Lena and answer their question.\",\n",
    ")"
   ]
  },
  {
   "cell_type": "code",
   "execution_count": 14,
   "metadata": {},
   "outputs": [
    {
     "name": "stdout",
     "output_type": "stream",
     "text": [
      "{\n",
      "  \"id\": \"run_PKnQ1OfmrhksF0ZRph1RUSdp\",\n",
      "  \"assistant_id\": \"asst_8FU7ZPzYkOTP1sxCw7eyF30X\",\n",
      "  \"cancelled_at\": null,\n",
      "  \"completed_at\": null,\n",
      "  \"created_at\": 1702790109,\n",
      "  \"expires_at\": 1702790709,\n",
      "  \"failed_at\": null,\n",
      "  \"file_ids\": [],\n",
      "  \"instructions\": \"You are a personal computer science tutor for the language Java. When asked a question, explain the Java coding logic, structure, and syntax neded to solve the problem. If you do not know the answer, ask questions to help you fully understand the problem.\",\n",
      "  \"last_error\": null,\n",
      "  \"metadata\": {},\n",
      "  \"model\": \"gpt-4-1106-preview\",\n",
      "  \"object\": \"thread.run\",\n",
      "  \"required_action\": null,\n",
      "  \"started_at\": null,\n",
      "  \"status\": \"queued\",\n",
      "  \"thread_id\": \"thread_9GyVPsChKJzNuhP3CcKnViol\",\n",
      "  \"tools\": [\n",
      "    {\n",
      "      \"type\": \"code_interpreter\"\n",
      "    }\n",
      "  ]\n",
      "}\n"
     ]
    }
   ],
   "source": [
    "print(run.model_dump_json(indent=2))"
   ]
  },
  {
   "cell_type": "code",
   "execution_count": 15,
   "metadata": {},
   "outputs": [],
   "source": [
    "retrieve_run = client.beta.threads.runs.retrieve(\n",
    "    thread_id = thread.id,\n",
    "    run_id = run.id\n",
    ")"
   ]
  },
  {
   "cell_type": "code",
   "execution_count": 16,
   "metadata": {},
   "outputs": [
    {
     "name": "stdout",
     "output_type": "stream",
     "text": [
      "{\n",
      "  \"id\": \"run_PKnQ1OfmrhksF0ZRph1RUSdp\",\n",
      "  \"assistant_id\": \"asst_8FU7ZPzYkOTP1sxCw7eyF30X\",\n",
      "  \"cancelled_at\": null,\n",
      "  \"completed_at\": null,\n",
      "  \"created_at\": 1702790109,\n",
      "  \"expires_at\": 1702790709,\n",
      "  \"failed_at\": null,\n",
      "  \"file_ids\": [],\n",
      "  \"instructions\": \"You are a personal computer science tutor for the language Java. When asked a question, explain the Java coding logic, structure, and syntax neded to solve the problem. If you do not know the answer, ask questions to help you fully understand the problem.\",\n",
      "  \"last_error\": null,\n",
      "  \"metadata\": {},\n",
      "  \"model\": \"gpt-4-1106-preview\",\n",
      "  \"object\": \"thread.run\",\n",
      "  \"required_action\": null,\n",
      "  \"started_at\": 1702790109,\n",
      "  \"status\": \"in_progress\",\n",
      "  \"thread_id\": \"thread_9GyVPsChKJzNuhP3CcKnViol\",\n",
      "  \"tools\": [\n",
      "    {\n",
      "      \"type\": \"code_interpreter\"\n",
      "    }\n",
      "  ]\n",
      "}\n"
     ]
    }
   ],
   "source": [
    "print(retrieve_run.model_dump_json(indent=2))"
   ]
  },
  {
   "cell_type": "code",
   "execution_count": 17,
   "metadata": {},
   "outputs": [],
   "source": [
    "thread_messages = client.beta.threads.messages.list(\n",
    "    thread_id = thread.id\n",
    ")"
   ]
  },
  {
   "cell_type": "code",
   "execution_count": 18,
   "metadata": {},
   "outputs": [
    {
     "name": "stdout",
     "output_type": "stream",
     "text": [
      "{\n",
      "  \"data\": [\n",
      "    {\n",
      "      \"id\": \"msg_e03IGfjP0cuB21XPkIHLtKxG\",\n",
      "      \"assistant_id\": \"asst_8FU7ZPzYkOTP1sxCw7eyF30X\",\n",
      "      \"content\": [\n",
      "        {\n",
      "          \"text\": {\n",
      "            \"annotations\": [],\n",
      "            \"value\": \"\"\n",
      "          },\n",
      "          \"type\": \"text\"\n",
      "        }\n",
      "      ],\n",
      "      \"created_at\": 1702790110,\n",
      "      \"file_ids\": [],\n",
      "      \"metadata\": {},\n",
      "      \"object\": \"thread.message\",\n",
      "      \"role\": \"assistant\",\n",
      "      \"run_id\": \"run_PKnQ1OfmrhksF0ZRph1RUSdp\",\n",
      "      \"thread_id\": \"thread_9GyVPsChKJzNuhP3CcKnViol\"\n",
      "    },\n",
      "    {\n",
      "      \"id\": \"msg_lY3PnyFB7fKdmjpVNMZ0IRaN\",\n",
      "      \"assistant_id\": null,\n",
      "      \"content\": [\n",
      "        {\n",
      "          \"text\": {\n",
      "            \"annotations\": [],\n",
      "            \"value\": \"What is the difference between an integer and a string?\"\n",
      "          },\n",
      "          \"type\": \"text\"\n",
      "        }\n",
      "      ],\n",
      "      \"created_at\": 1702790106,\n",
      "      \"file_ids\": [],\n",
      "      \"metadata\": {},\n",
      "      \"object\": \"thread.message\",\n",
      "      \"role\": \"user\",\n",
      "      \"run_id\": null,\n",
      "      \"thread_id\": \"thread_9GyVPsChKJzNuhP3CcKnViol\"\n",
      "    },\n",
      "    {\n",
      "      \"id\": \"msg_X9m8tCg873kgBsS7wYarsNEO\",\n",
      "      \"assistant_id\": \"asst_8FU7ZPzYkOTP1sxCw7eyF30X\",\n",
      "      \"content\": [\n",
      "        {\n",
      "          \"text\": {\n",
      "            \"annotations\": [],\n",
      "            \"value\": \"In Java, both the for loop and the while loop are control flow statements that allow you to execute a block of code multiple times. The main differences between them lie in their syntax and use cases.\\n\\n1. **For loop:** It is generally used when the number of iterations is known beforehand. A for loop has an initialization block, a condition, and an iteration expression all included in its header.\\n\\nHere is the basic syntax of a for loop:\\n\\n```java\\nfor (initialization; condition; iteration) {\\n    // Body of the loop\\n}\\n```\\n- *Initialization*: This is executed once at the beginning of the loop. It often involves initializing a counter variable.\\n- *Condition*: This is checked before each iteration. If it evaluates to `true`, the loop continues; if `false`, the loop stops.\\n- *Iteration*: This is executed after each iteration, typically to update the counter variable.\\n\\nExample:\\n\\n```java\\nfor (int i = 0; i < 10; i++) {\\n    System.out.println(\\\"The value of i is: \\\" + i);\\n}\\n```\\n\\nThis loop will print the numbers 0 through 9, as the condition checks if `i` is less than 10.\\n\\n2. **While loop:** This loop is used when the number of iterations is not necessarily known in advance. Instead, the while loop continues to execute as long as a given condition is true. The condition is checked before entering the loop body.\\n\\nHere is the basic syntax of a while loop:\\n\\n```java\\nwhile (condition) {\\n    // Body of the loop\\n}\\n```\\n\\n- *Condition*: This is checked before each iteration. The loop body executes if the condition is `true`, and the loop stops if the condition is `false`.\\n\\nExample:\\n\\n```java\\nint i = 0;\\nwhile (i < 10) {\\n    System.out.println(\\\"The value of i is: \\\" + i);\\n    i++;\\n}\\n```\\n\\nThis will also print the numbers 0 through 9. The increment of `i` is done inside the loop body, contrary to the for loop, where it is typically included in the loop's header.\\n\\n**Summary:**\\n\\n- Use a for loop when you know how many times you need to iterate.\\n- Use a while loop when you need to iterate based on a condition regardless of how many times the loop will run.\\n\\nNote that in practice, you can often use either type of loop interchangeably, by restructuring the loop properly. However, choosing the appropriate loop can make the code clearer and more intuitive.\"\n",
      "          },\n",
      "          \"type\": \"text\"\n",
      "        }\n",
      "      ],\n",
      "      \"created_at\": 1702790080,\n",
      "      \"file_ids\": [],\n",
      "      \"metadata\": {},\n",
      "      \"object\": \"thread.message\",\n",
      "      \"role\": \"assistant\",\n",
      "      \"run_id\": \"run_DsK32RP8RbRmVzKh1ie9EKCa\",\n",
      "      \"thread_id\": \"thread_9GyVPsChKJzNuhP3CcKnViol\"\n",
      "    },\n",
      "    {\n",
      "      \"id\": \"msg_RjKWTYiDwOGVEWp7xXofqD1Q\",\n",
      "      \"assistant_id\": null,\n",
      "      \"content\": [\n",
      "        {\n",
      "          \"text\": {\n",
      "            \"annotations\": [],\n",
      "            \"value\": \"What is the difference between a for loop and a while loop?\"\n",
      "          },\n",
      "          \"type\": \"text\"\n",
      "        }\n",
      "      ],\n",
      "      \"created_at\": 1702790073,\n",
      "      \"file_ids\": [],\n",
      "      \"metadata\": {},\n",
      "      \"object\": \"thread.message\",\n",
      "      \"role\": \"user\",\n",
      "      \"run_id\": null,\n",
      "      \"thread_id\": \"thread_9GyVPsChKJzNuhP3CcKnViol\"\n",
      "    }\n",
      "  ],\n",
      "  \"object\": \"list\",\n",
      "  \"first_id\": \"msg_e03IGfjP0cuB21XPkIHLtKxG\",\n",
      "  \"last_id\": \"msg_RjKWTYiDwOGVEWp7xXofqD1Q\",\n",
      "  \"has_more\": false\n",
      "}\n"
     ]
    }
   ],
   "source": [
    "print(thread_messages.model_dump_json(indent=2))"
   ]
  },
  {
   "cell_type": "code",
   "execution_count": 1,
   "metadata": {},
   "outputs": [
    {
     "ename": "NameError",
     "evalue": "name 'thread_messages' is not defined",
     "output_type": "error",
     "traceback": [
      "\u001b[0;31m---------------------------------------------------------------------------\u001b[0m",
      "\u001b[0;31mNameError\u001b[0m                                 Traceback (most recent call last)",
      "Cell \u001b[0;32mIn[1], line 1\u001b[0m\n\u001b[0;32m----> 1\u001b[0m \u001b[38;5;28;01mfor\u001b[39;00m message \u001b[38;5;129;01min\u001b[39;00m \u001b[43mthread_messages\u001b[49m\u001b[38;5;241m.\u001b[39mdata:\n\u001b[1;32m      2\u001b[0m     \u001b[38;5;28;01mif\u001b[39;00m message\u001b[38;5;241m.\u001b[39mrole \u001b[38;5;241m==\u001b[39m \u001b[38;5;124m'\u001b[39m\u001b[38;5;124massistant\u001b[39m\u001b[38;5;124m'\u001b[39m:\n\u001b[1;32m      3\u001b[0m         \u001b[38;5;28mprint\u001b[39m(message)\n",
      "\u001b[0;31mNameError\u001b[0m: name 'thread_messages' is not defined"
     ]
    }
   ],
   "source": [
    "for message in thread_messages.data:\n",
    "    if message.role == 'assistant':\n",
    "        print(message)\n"
   ]
  },
  {
   "cell_type": "code",
   "execution_count": 24,
   "metadata": {},
   "outputs": [
    {
     "name": "stdout",
     "output_type": "stream",
     "text": [
      "User\n",
      "\n",
      "\n",
      ": What is the difference between a for loop and a while loop?\n",
      "Asistant\n",
      "\n",
      "\n",
      ": In Java, both the for loop and the while loop are control flow statements that allow you to execute a block of code multiple times. The main differences between them lie in their syntax and use cases.\n",
      "\n",
      "1. **For loop:** It is generally used when the number of iterations is known beforehand. A for loop has an initialization block, a condition, and an iteration expression all included in its header.\n",
      "\n",
      "Here is the basic syntax of a for loop:\n",
      "\n",
      "```java\n",
      "for (initialization; condition; iteration) {\n",
      "    // Body of the loop\n",
      "}\n",
      "```\n",
      "- *Initialization*: This is executed once at the beginning of the loop. It often involves initializing a counter variable.\n",
      "- *Condition*: This is checked before each iteration. If it evaluates to `true`, the loop continues; if `false`, the loop stops.\n",
      "- *Iteration*: This is executed after each iteration, typically to update the counter variable.\n",
      "\n",
      "Example:\n",
      "\n",
      "```java\n",
      "for (int i = 0; i < 10; i++) {\n",
      "    System.out.println(\"The value of i is: \" + i);\n",
      "}\n",
      "```\n",
      "\n",
      "This loop will print the numbers 0 through 9, as the condition checks if `i` is less than 10.\n",
      "\n",
      "2. **While loop:** This loop is used when the number of iterations is not necessarily known in advance. Instead, the while loop continues to execute as long as a given condition is true. The condition is checked before entering the loop body.\n",
      "\n",
      "Here is the basic syntax of a while loop:\n",
      "\n",
      "```java\n",
      "while (condition) {\n",
      "    // Body of the loop\n",
      "}\n",
      "```\n",
      "\n",
      "- *Condition*: This is checked before each iteration. The loop body executes if the condition is `true`, and the loop stops if the condition is `false`.\n",
      "\n",
      "Example:\n",
      "\n",
      "```java\n",
      "int i = 0;\n",
      "while (i < 10) {\n",
      "    System.out.println(\"The value of i is: \" + i);\n",
      "    i++;\n",
      "}\n",
      "```\n",
      "\n",
      "This will also print the numbers 0 through 9. The increment of `i` is done inside the loop body, contrary to the for loop, where it is typically included in the loop's header.\n",
      "\n",
      "**Summary:**\n",
      "\n",
      "- Use a for loop when you know how many times you need to iterate.\n",
      "- Use a while loop when you need to iterate based on a condition regardless of how many times the loop will run.\n",
      "\n",
      "Note that in practice, you can often use either type of loop interchangeably, by restructuring the loop properly. However, choosing the appropriate loop can make the code clearer and more intuitive.\n",
      "User\n",
      "\n",
      "\n",
      ": What is the difference between an integer and a string?\n",
      "Asistant\n",
      "\n",
      "\n",
      ": \n"
     ]
    }
   ],
   "source": [
    "for message in reversed(thread_messages.data):\n",
    "    content = message.content[0].text.value\n",
    "    if message.role == 'assistant':\n",
    "        print(f\"Asistant\\n\\n\\n: {content}\")\n",
    "    if message.role == 'user':\n",
    "        print(f\"User\\n\\n\\n: {content}\")"
   ]
  },
  {
   "cell_type": "markdown",
   "metadata": {},
   "source": [
    "User: What is the difference between a for loop and a while loop?\n",
    "\n",
    "\n",
    "Assistant: In Java, both `for` loops and `while` loops are used to execute a block of code repeatedly for a number of iterations, but they have different syntax and are used in slightly different situations based on the clarity and convenience they offer for a particular scenario. Here's a basic definition and distinction between the two:\n",
    "\n",
    "**For Loop:**\n",
    "A `for` loop is used when the number of iterations is known beforehand. The structure of a `for` loop includes the initialization of the loop control variable, the loop condition (which is checked before each iteration), and the increment or decrement of the loop control variable. It is often used when you want to iterate over an array or a range of values.\n",
    "\n",
    "Here's the syntax of a for loop in Java:\n",
    "```java\n",
    "for (initialization; condition; increment/decrement) {\n",
    "    // block of code to be executed\n",
    "}\n",
    "```\n",
    "\n",
    "For example, if you want to iterate over a range of integers from 0 to 9, you might write:\n",
    "```java\n",
    "for (int i = 0; i < 10; i++) {\n",
    "    System.out.println(i);\n",
    "}\n",
    "```\n",
    "\n",
    "**While Loop:**\n",
    "A `while` loop is used when the number of iterations is not known and depends on a condition. The loop executes as long as the condition is `true`. The loop condition is checked before each iteration, but unlike a `for` loop, the initialization and increment/decrement happen inside the loop body or before the loop starts.\n",
    "\n",
    "Here's the syntax of a while loop in Java:\n",
    "```java\n",
    "...\n",
    "**Key Differences:**\n",
    "1. Initialization, condition check, and increment/decrement are included in the same line in a `for` loop, whereas in a `while` loop, these parts can be scattered.\n",
    "2. Generally, `for` loops are used when the number of iterations is known before entering the loop, and `while` loops are used when the iterations depend on a condition that is evaluated during the execution.\n",
    "3. A `for` loop provides a concise way of writing the loop structure, while a `while` loop can be more expressive and flexible, especially in scenarios where the control variable might be altered by different parts of the code within the loop body."
   ]
  },
  {
   "cell_type": "code",
   "execution_count": null,
   "metadata": {},
   "outputs": [],
   "source": [
    "client.beta.assistants.delete(java_assistant.id)"
   ]
  },
  {
   "cell_type": "code",
   "execution_count": null,
   "metadata": {},
   "outputs": [],
   "source": [
    "print(client.beta.assistants.list())"
   ]
  }
 ],
 "metadata": {
  "kernelspec": {
   "display_name": "Python 3",
   "language": "python",
   "name": "python3"
  },
  "language_info": {
   "codemirror_mode": {
    "name": "ipython",
    "version": 3
   },
   "file_extension": ".py",
   "mimetype": "text/x-python",
   "name": "python",
   "nbconvert_exporter": "python",
   "pygments_lexer": "ipython3",
   "version": "3.10.9"
  }
 },
 "nbformat": 4,
 "nbformat_minor": 2
}
