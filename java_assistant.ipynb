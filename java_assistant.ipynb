{
 "cells": [
  {
   "cell_type": "code",
   "execution_count": 65,
   "metadata": {},
   "outputs": [],
   "source": [
    "from openai import OpenAI\n",
    "from sensitive import OPENAI_API_KEY, OPENAI_ORGANIZATION"
   ]
  },
  {
   "cell_type": "code",
   "execution_count": 66,
   "metadata": {},
   "outputs": [],
   "source": [
    "client = OpenAI(\n",
    "    organization=OPENAI_ORGANIZATION,\n",
    "    api_key=OPENAI_API_KEY\n",
    "    )"
   ]
  },
  {
   "cell_type": "code",
   "execution_count": 67,
   "metadata": {},
   "outputs": [],
   "source": [
    "java_assistant = client.beta.assistants.create(\n",
    "    name=\"Java Tutor\",\n",
    "    instructions=\"You are a personal computer science tutor for the language Java. When asked a question, explain the Java coding logic, structure, and syntax neded to solve the problem. If you do not know the answer, ask questions to help you fully understand the problem.\",\n",
    "    model=\"gpt-4-1106-preview\",\n",
    "    tools=[{\"type\": \"code_interpreter\"}]\n",
    ")"
   ]
  },
  {
   "cell_type": "code",
   "execution_count": 68,
   "metadata": {},
   "outputs": [
    {
     "name": "stdout",
     "output_type": "stream",
     "text": [
      "{\n",
      "  \"id\": \"asst_Hdxook2N7NByBIjCSeGKqrsW\",\n",
      "  \"created_at\": 1702767147,\n",
      "  \"description\": null,\n",
      "  \"file_ids\": [],\n",
      "  \"instructions\": \"You are a personal computer science tutor for the language Java. When asked a question, explain the Java coding logic, structure, and syntax neded to solve the problem. If you do not know the answer, ask questions to help you fully understand the problem.\",\n",
      "  \"metadata\": {},\n",
      "  \"model\": \"gpt-4-1106-preview\",\n",
      "  \"name\": \"Java Tutor\",\n",
      "  \"object\": \"assistant\",\n",
      "  \"tools\": [\n",
      "    {\n",
      "      \"type\": \"code_interpreter\"\n",
      "    }\n",
      "  ]\n",
      "}\n"
     ]
    }
   ],
   "source": [
    "print(java_assistant.model_dump_json(indent=2))"
   ]
  },
  {
   "cell_type": "code",
   "execution_count": 69,
   "metadata": {},
   "outputs": [],
   "source": [
    "thread = client.beta.threads.create()"
   ]
  },
  {
   "cell_type": "code",
   "execution_count": 70,
   "metadata": {},
   "outputs": [
    {
     "name": "stdout",
     "output_type": "stream",
     "text": [
      "{\n",
      "  \"id\": \"thread_7bhh0BfMvNe4KQwtMIu9wvzw\",\n",
      "  \"created_at\": 1702767154,\n",
      "  \"metadata\": {},\n",
      "  \"object\": \"thread\"\n",
      "}\n"
     ]
    }
   ],
   "source": [
    "print(thread.model_dump_json(indent=2))"
   ]
  },
  {
   "cell_type": "code",
   "execution_count": 71,
   "metadata": {},
   "outputs": [],
   "source": [
    "message = client.beta.threads.messages.create(\n",
    "    thread_id=thread.id,\n",
    "    role = \"user\",\n",
    "    content=\"What is the difference between a for loop and a while loop?\"\n",
    ")"
   ]
  },
  {
   "cell_type": "code",
   "execution_count": 72,
   "metadata": {},
   "outputs": [
    {
     "name": "stdout",
     "output_type": "stream",
     "text": [
      "{\n",
      "  \"id\": \"msg_oXCuIaA0SeeqqoxLyk3YdOdI\",\n",
      "  \"assistant_id\": null,\n",
      "  \"content\": [\n",
      "    {\n",
      "      \"text\": {\n",
      "        \"annotations\": [],\n",
      "        \"value\": \"What is the difference between a for loop and a while loop?\"\n",
      "      },\n",
      "      \"type\": \"text\"\n",
      "    }\n",
      "  ],\n",
      "  \"created_at\": 1702767160,\n",
      "  \"file_ids\": [],\n",
      "  \"metadata\": {},\n",
      "  \"object\": \"thread.message\",\n",
      "  \"role\": \"user\",\n",
      "  \"run_id\": null,\n",
      "  \"thread_id\": \"thread_7bhh0BfMvNe4KQwtMIu9wvzw\"\n",
      "}\n"
     ]
    }
   ],
   "source": [
    "print(message.model_dump_json(indent=2))"
   ]
  },
  {
   "cell_type": "code",
   "execution_count": 73,
   "metadata": {},
   "outputs": [],
   "source": [
    "run = client.beta.threads.runs.create(\n",
    "    thread_id = thread.id,\n",
    "    assistant_id = java_assistant.id,\n",
    "    #instructions = \"Please address the user as Dr. Lena and answer their question.\",\n",
    ")"
   ]
  },
  {
   "cell_type": "code",
   "execution_count": 74,
   "metadata": {},
   "outputs": [
    {
     "name": "stdout",
     "output_type": "stream",
     "text": [
      "{\n",
      "  \"id\": \"run_UkHQbHl4wiN7hy5aRyXGpOh3\",\n",
      "  \"assistant_id\": \"asst_Hdxook2N7NByBIjCSeGKqrsW\",\n",
      "  \"cancelled_at\": null,\n",
      "  \"completed_at\": null,\n",
      "  \"created_at\": 1702767187,\n",
      "  \"expires_at\": 1702767787,\n",
      "  \"failed_at\": null,\n",
      "  \"file_ids\": [],\n",
      "  \"instructions\": \"You are a personal computer science tutor for the language Java. When asked a question, explain the Java coding logic, structure, and syntax neded to solve the problem. If you do not know the answer, ask questions to help you fully understand the problem.\",\n",
      "  \"last_error\": null,\n",
      "  \"metadata\": {},\n",
      "  \"model\": \"gpt-4-1106-preview\",\n",
      "  \"object\": \"thread.run\",\n",
      "  \"required_action\": null,\n",
      "  \"started_at\": null,\n",
      "  \"status\": \"queued\",\n",
      "  \"thread_id\": \"thread_7bhh0BfMvNe4KQwtMIu9wvzw\",\n",
      "  \"tools\": [\n",
      "    {\n",
      "      \"type\": \"code_interpreter\"\n",
      "    }\n",
      "  ]\n",
      "}\n"
     ]
    }
   ],
   "source": [
    "print(run.model_dump_json(indent=2))"
   ]
  },
  {
   "cell_type": "code",
   "execution_count": 75,
   "metadata": {},
   "outputs": [],
   "source": [
    "retrieve_run = client.beta.threads.runs.retrieve(\n",
    "    thread_id = thread.id,\n",
    "    run_id = run.id\n",
    ")"
   ]
  },
  {
   "cell_type": "code",
   "execution_count": 76,
   "metadata": {},
   "outputs": [
    {
     "name": "stdout",
     "output_type": "stream",
     "text": [
      "{\n",
      "  \"id\": \"run_UkHQbHl4wiN7hy5aRyXGpOh3\",\n",
      "  \"assistant_id\": \"asst_Hdxook2N7NByBIjCSeGKqrsW\",\n",
      "  \"cancelled_at\": null,\n",
      "  \"completed_at\": null,\n",
      "  \"created_at\": 1702767187,\n",
      "  \"expires_at\": 1702767787,\n",
      "  \"failed_at\": null,\n",
      "  \"file_ids\": [],\n",
      "  \"instructions\": \"You are a personal computer science tutor for the language Java. When asked a question, explain the Java coding logic, structure, and syntax neded to solve the problem. If you do not know the answer, ask questions to help you fully understand the problem.\",\n",
      "  \"last_error\": null,\n",
      "  \"metadata\": {},\n",
      "  \"model\": \"gpt-4-1106-preview\",\n",
      "  \"object\": \"thread.run\",\n",
      "  \"required_action\": null,\n",
      "  \"started_at\": 1702767187,\n",
      "  \"status\": \"in_progress\",\n",
      "  \"thread_id\": \"thread_7bhh0BfMvNe4KQwtMIu9wvzw\",\n",
      "  \"tools\": [\n",
      "    {\n",
      "      \"type\": \"code_interpreter\"\n",
      "    }\n",
      "  ]\n",
      "}\n"
     ]
    }
   ],
   "source": [
    "print(retrieve_run.model_dump_json(indent=2))"
   ]
  },
  {
   "cell_type": "code",
   "execution_count": 77,
   "metadata": {},
   "outputs": [],
   "source": [
    "thread_messages = client.beta.threads.messages.list(\n",
    "    thread_id = thread.id\n",
    ")"
   ]
  },
  {
   "cell_type": "code",
   "execution_count": 78,
   "metadata": {},
   "outputs": [
    {
     "name": "stdout",
     "output_type": "stream",
     "text": [
      "{\n",
      "  \"data\": [\n",
      "    {\n",
      "      \"id\": \"msg_xzeC17JyQy80PTaDsA6G5JvL\",\n",
      "      \"assistant_id\": \"asst_Hdxook2N7NByBIjCSeGKqrsW\",\n",
      "      \"content\": [\n",
      "        {\n",
      "          \"text\": {\n",
      "            \"annotations\": [],\n",
      "            \"value\": \"In Java, both `for` loops and `while` loops are used to execute a block of code repeatedly for a number of iterations, but they have different syntax and are used in slightly different situations based on the clarity and convenience they offer for a particular scenario. Here's a basic definition and distinction between the two:\\n\\n**For Loop:**\\nA `for` loop is used when the number of iterations is known beforehand. The structure of a `for` loop includes the initialization of the loop control variable, the loop condition (which is checked before each iteration), and the increment or decrement of the loop control variable. It is often used when you want to iterate over an array or a range of values.\\n\\nHere's the syntax of a for loop in Java:\\n```java\\nfor (initialization; condition; increment/decrement) {\\n    // block of code to be executed\\n}\\n```\\n\\nFor example, if you want to iterate over a range of integers from 0 to 9, you might write:\\n```java\\nfor (int i = 0; i < 10; i++) {\\n    System.out.println(i);\\n}\\n```\\n\\n**While Loop:**\\nA `while` loop is used when the number of iterations is not known and depends on a condition. The loop executes as long as the condition is `true`. The loop condition is checked before each iteration, but unlike a `for` loop, the initialization and increment/decrement happen inside the loop body or before the loop starts.\\n\\nHere's the syntax of a while loop in Java:\\n```java\\nwhile (condition) {\\n    // block of code to be executed\\n    // increment/decrement\\n}\\n```\\n\\nFor example, if you want to iterate until a certain condition is met, like finding the first multiple of 5 greater than 20:\\n```java\\nint i = 0;\\nwhile (i <= 20) {\\n    i++;\\n    if (i % 5 == 0) {\\n        System.out.println(\\\"First multiple of 5 greater than 20 is: \\\" + i);\\n        break;\\n    }\\n}\\n```\\n\\n**Key Differences:**\\n1. Initialization, condition check, and increment/decrement are included in the same line in a `for` loop, whereas in a `while` loop, these parts can be scattered.\\n2. Generally, `for` loops are used when the number of iterations is known before entering the loop, and `while` loops are used when the iterations depend on a condition that is evaluated during the execution.\\n3. A `for` loop provides a concise way of writing the loop structure, while a `while` loop can be more expressive and flexible, especially in scenarios where the control variable might be altered by different parts of the code within the loop body.\"\n",
      "          },\n",
      "          \"type\": \"text\"\n",
      "        }\n",
      "      ],\n",
      "      \"created_at\": 1702767188,\n",
      "      \"file_ids\": [],\n",
      "      \"metadata\": {},\n",
      "      \"object\": \"thread.message\",\n",
      "      \"role\": \"assistant\",\n",
      "      \"run_id\": \"run_UkHQbHl4wiN7hy5aRyXGpOh3\",\n",
      "      \"thread_id\": \"thread_7bhh0BfMvNe4KQwtMIu9wvzw\"\n",
      "    },\n",
      "    {\n",
      "      \"id\": \"msg_oXCuIaA0SeeqqoxLyk3YdOdI\",\n",
      "      \"assistant_id\": null,\n",
      "      \"content\": [\n",
      "        {\n",
      "          \"text\": {\n",
      "            \"annotations\": [],\n",
      "            \"value\": \"What is the difference between a for loop and a while loop?\"\n",
      "          },\n",
      "          \"type\": \"text\"\n",
      "        }\n",
      "      ],\n",
      "      \"created_at\": 1702767160,\n",
      "      \"file_ids\": [],\n",
      "      \"metadata\": {},\n",
      "      \"object\": \"thread.message\",\n",
      "      \"role\": \"user\",\n",
      "      \"run_id\": null,\n",
      "      \"thread_id\": \"thread_7bhh0BfMvNe4KQwtMIu9wvzw\"\n",
      "    }\n",
      "  ],\n",
      "  \"object\": \"list\",\n",
      "  \"first_id\": \"msg_xzeC17JyQy80PTaDsA6G5JvL\",\n",
      "  \"last_id\": \"msg_oXCuIaA0SeeqqoxLyk3YdOdI\",\n",
      "  \"has_more\": false\n",
      "}\n"
     ]
    }
   ],
   "source": [
    "print(thread_messages.model_dump_json(indent=2))"
   ]
  },
  {
   "cell_type": "code",
   "execution_count": 79,
   "metadata": {},
   "outputs": [
    {
     "name": "stdout",
     "output_type": "stream",
     "text": [
      "User: What is the difference between a for loop and a while loop?\n",
      "Assistant: In Java, both `for` loops and `while` loops are used to execute a block of code repeatedly for a number of iterations, but they have different syntax and are used in slightly different situations based on the clarity and convenience they offer for a particular scenario. Here's a basic definition and distinction between the two:\n",
      "\n",
      "**For Loop:**\n",
      "A `for` loop is used when the number of iterations is known beforehand. The structure of a `for` loop includes the initialization of the loop control variable, the loop condition (which is checked before each iteration), and the increment or decrement of the loop control variable. It is often used when you want to iterate over an array or a range of values.\n",
      "\n",
      "Here's the syntax of a for loop in Java:\n",
      "```java\n",
      "for (initialization; condition; increment/decrement) {\n",
      "    // block of code to be executed\n",
      "}\n",
      "```\n",
      "\n",
      "For example, if you want to iterate over a range of integers from 0 to 9, you might write:\n",
      "```java\n",
      "for (int i = 0; i < 10; i++) {\n",
      "    System.out.println(i);\n",
      "}\n",
      "```\n",
      "\n",
      "**While Loop:**\n",
      "A `while` loop is used when the number of iterations is not known and depends on a condition. The loop executes as long as the condition is `true`. The loop condition is checked before each iteration, but unlike a `for` loop, the initialization and increment/decrement happen inside the loop body or before the loop starts.\n",
      "\n",
      "Here's the syntax of a while loop in Java:\n",
      "```java\n",
      "while (condition) {\n",
      "    // block of code to be executed\n",
      "    // increment/decrement\n",
      "}\n",
      "```\n",
      "\n",
      "For example, if you want to iterate until a certain condition is met, like finding the first multiple of 5 greater than 20:\n",
      "```java\n",
      "int i = 0;\n",
      "while (i <= 20) {\n",
      "    i++;\n",
      "    if (i % 5 == 0) {\n",
      "        System.out.println(\"First multiple of 5 greater than 20 is: \" + i);\n",
      "        break;\n",
      "    }\n",
      "}\n",
      "```\n",
      "\n",
      "**Key Differences:**\n",
      "1. Initialization, condition check, and increment/decrement are included in the same line in a `for` loop, whereas in a `while` loop, these parts can be scattered.\n",
      "2. Generally, `for` loops are used when the number of iterations is known before entering the loop, and `while` loops are used when the iterations depend on a condition that is evaluated during the execution.\n",
      "3. A `for` loop provides a concise way of writing the loop structure, while a `while` loop can be more expressive and flexible, especially in scenarios where the control variable might be altered by different parts of the code within the loop body.\n"
     ]
    }
   ],
   "source": [
    "for message in reversed(thread_messages.data):\n",
    "    content = message.content[0].text.value\n",
    "    if message.role == 'assistant':\n",
    "        print(f\"Assistant: {content}\")\n",
    "    if message.role == 'user':\n",
    "        print(f\"User: {content}\")"
   ]
  },
  {
   "cell_type": "markdown",
   "metadata": {},
   "source": [
    "User: What is the difference between a for loop and a while loop?\n",
    "Assistant: In Java, both `for` loops and `while` loops are used to execute a block of code repeatedly for a number of iterations, but they have different syntax and are used in slightly different situations based on the clarity and convenience they offer for a particular scenario. Here's a basic definition and distinction between the two:\n",
    "\n",
    "**For Loop:**\n",
    "A `for` loop is used when the number of iterations is known beforehand. The structure of a `for` loop includes the initialization of the loop control variable, the loop condition (which is checked before each iteration), and the increment or decrement of the loop control variable. It is often used when you want to iterate over an array or a range of values.\n",
    "\n",
    "Here's the syntax of a for loop in Java:\n",
    "```java\n",
    "for (initialization; condition; increment/decrement) {\n",
    "    // block of code to be executed\n",
    "}\n",
    "```\n",
    "\n",
    "For example, if you want to iterate over a range of integers from 0 to 9, you might write:\n",
    "```java\n",
    "for (int i = 0; i < 10; i++) {\n",
    "    System.out.println(i);\n",
    "}\n",
    "```\n",
    "\n",
    "**While Loop:**\n",
    "A `while` loop is used when the number of iterations is not known and depends on a condition. The loop executes as long as the condition is `true`. The loop condition is checked before each iteration, but unlike a `for` loop, the initialization and increment/decrement happen inside the loop body or before the loop starts.\n",
    "\n",
    "Here's the syntax of a while loop in Java:\n",
    "```java\n",
    "...\n",
    "**Key Differences:**\n",
    "1. Initialization, condition check, and increment/decrement are included in the same line in a `for` loop, whereas in a `while` loop, these parts can be scattered.\n",
    "2. Generally, `for` loops are used when the number of iterations is known before entering the loop, and `while` loops are used when the iterations depend on a condition that is evaluated during the execution.\n",
    "3. A `for` loop provides a concise way of writing the loop structure, while a `while` loop can be more expressive and flexible, especially in scenarios where the control variable might be altered by different parts of the code within the loop body."
   ]
  },
  {
   "cell_type": "code",
   "execution_count": 80,
   "metadata": {},
   "outputs": [
    {
     "data": {
      "text/plain": [
       "AssistantDeleted(id='asst_Hdxook2N7NByBIjCSeGKqrsW', deleted=True, object='assistant.deleted')"
      ]
     },
     "execution_count": 80,
     "metadata": {},
     "output_type": "execute_result"
    }
   ],
   "source": [
    "client.beta.assistants.delete(java_assistant.id)"
   ]
  },
  {
   "cell_type": "code",
   "execution_count": 81,
   "metadata": {},
   "outputs": [
    {
     "name": "stdout",
     "output_type": "stream",
     "text": [
      "SyncCursorPage[Assistant](data=[], object='list', first_id=None, last_id=None, has_more=False)\n"
     ]
    }
   ],
   "source": [
    "print(client.beta.assistants.list())"
   ]
  }
 ],
 "metadata": {
  "kernelspec": {
   "display_name": "Python 3",
   "language": "python",
   "name": "python3"
  },
  "language_info": {
   "codemirror_mode": {
    "name": "ipython",
    "version": 3
   },
   "file_extension": ".py",
   "mimetype": "text/x-python",
   "name": "python",
   "nbconvert_exporter": "python",
   "pygments_lexer": "ipython3",
   "version": "3.10.9"
  }
 },
 "nbformat": 4,
 "nbformat_minor": 2
}
